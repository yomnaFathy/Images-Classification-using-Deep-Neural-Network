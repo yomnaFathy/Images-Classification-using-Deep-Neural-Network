{
  "nbformat": 4,
  "nbformat_minor": 0,
  "metadata": {
    "colab": {
      "name": "Flower_Image_Classification_VGG16",
      "provenance": [],
      "collapsed_sections": [],
      "mount_file_id": "1meNmDdqT0u7msc36uJYmmtmhZpFPN-uh",
      "authorship_tag": "ABX9TyP2rC1b8DDb6JI62JjzBvWp",
      "include_colab_link": true
    },
    "kernelspec": {
      "name": "python3",
      "display_name": "Python 3"
    },
    "accelerator": "GPU",
    "widgets": {
      "application/vnd.jupyter.widget-state+json": {
        "75a40fa4feff44668c27682868ac5d6c": {
          "model_module": "@jupyter-widgets/controls",
          "model_name": "HBoxModel",
          "state": {
            "_view_name": "HBoxView",
            "_dom_classes": [],
            "_model_name": "HBoxModel",
            "_view_module": "@jupyter-widgets/controls",
            "_model_module_version": "1.5.0",
            "_view_count": null,
            "_view_module_version": "1.5.0",
            "box_style": "",
            "layout": "IPY_MODEL_e4f763bff3a3444385702c46f9fd37d5",
            "_model_module": "@jupyter-widgets/controls",
            "children": [
              "IPY_MODEL_13e86807c8744e5ba91a047fb96e955f",
              "IPY_MODEL_bafd20c0a0c9452e9a5b13ba3bad39d3"
            ]
          }
        },
        "e4f763bff3a3444385702c46f9fd37d5": {
          "model_module": "@jupyter-widgets/base",
          "model_name": "LayoutModel",
          "state": {
            "_view_name": "LayoutView",
            "grid_template_rows": null,
            "right": null,
            "justify_content": null,
            "_view_module": "@jupyter-widgets/base",
            "overflow": null,
            "_model_module_version": "1.2.0",
            "_view_count": null,
            "flex_flow": null,
            "width": null,
            "min_width": null,
            "border": null,
            "align_items": null,
            "bottom": null,
            "_model_module": "@jupyter-widgets/base",
            "top": null,
            "grid_column": null,
            "overflow_y": null,
            "overflow_x": null,
            "grid_auto_flow": null,
            "grid_area": null,
            "grid_template_columns": null,
            "flex": null,
            "_model_name": "LayoutModel",
            "justify_items": null,
            "grid_row": null,
            "max_height": null,
            "align_content": null,
            "visibility": null,
            "align_self": null,
            "height": null,
            "min_height": null,
            "padding": null,
            "grid_auto_rows": null,
            "grid_gap": null,
            "max_width": null,
            "order": null,
            "_view_module_version": "1.2.0",
            "grid_template_areas": null,
            "object_position": null,
            "object_fit": null,
            "grid_auto_columns": null,
            "margin": null,
            "display": null,
            "left": null
          }
        },
        "13e86807c8744e5ba91a047fb96e955f": {
          "model_module": "@jupyter-widgets/controls",
          "model_name": "FloatProgressModel",
          "state": {
            "_view_name": "ProgressView",
            "style": "IPY_MODEL_e2c98a824ed24090962cbc1fd534a2a5",
            "_dom_classes": [],
            "description": "100%",
            "_model_name": "FloatProgressModel",
            "bar_style": "success",
            "max": 553433881,
            "_view_module": "@jupyter-widgets/controls",
            "_model_module_version": "1.5.0",
            "value": 553433881,
            "_view_count": null,
            "_view_module_version": "1.5.0",
            "orientation": "horizontal",
            "min": 0,
            "description_tooltip": null,
            "_model_module": "@jupyter-widgets/controls",
            "layout": "IPY_MODEL_6fb07a6b788b4ca791c88215bc2c4ae8"
          }
        },
        "bafd20c0a0c9452e9a5b13ba3bad39d3": {
          "model_module": "@jupyter-widgets/controls",
          "model_name": "HTMLModel",
          "state": {
            "_view_name": "HTMLView",
            "style": "IPY_MODEL_508cec651ff7456594691db3ccfebd54",
            "_dom_classes": [],
            "description": "",
            "_model_name": "HTMLModel",
            "placeholder": "​",
            "_view_module": "@jupyter-widgets/controls",
            "_model_module_version": "1.5.0",
            "value": " 528M/528M [06:15&lt;00:00, 1.47MB/s]",
            "_view_count": null,
            "_view_module_version": "1.5.0",
            "description_tooltip": null,
            "_model_module": "@jupyter-widgets/controls",
            "layout": "IPY_MODEL_f73fc508df8b4cc493a303b5642a21ed"
          }
        },
        "e2c98a824ed24090962cbc1fd534a2a5": {
          "model_module": "@jupyter-widgets/controls",
          "model_name": "ProgressStyleModel",
          "state": {
            "_view_name": "StyleView",
            "_model_name": "ProgressStyleModel",
            "description_width": "initial",
            "_view_module": "@jupyter-widgets/base",
            "_model_module_version": "1.5.0",
            "_view_count": null,
            "_view_module_version": "1.2.0",
            "bar_color": null,
            "_model_module": "@jupyter-widgets/controls"
          }
        },
        "6fb07a6b788b4ca791c88215bc2c4ae8": {
          "model_module": "@jupyter-widgets/base",
          "model_name": "LayoutModel",
          "state": {
            "_view_name": "LayoutView",
            "grid_template_rows": null,
            "right": null,
            "justify_content": null,
            "_view_module": "@jupyter-widgets/base",
            "overflow": null,
            "_model_module_version": "1.2.0",
            "_view_count": null,
            "flex_flow": null,
            "width": null,
            "min_width": null,
            "border": null,
            "align_items": null,
            "bottom": null,
            "_model_module": "@jupyter-widgets/base",
            "top": null,
            "grid_column": null,
            "overflow_y": null,
            "overflow_x": null,
            "grid_auto_flow": null,
            "grid_area": null,
            "grid_template_columns": null,
            "flex": null,
            "_model_name": "LayoutModel",
            "justify_items": null,
            "grid_row": null,
            "max_height": null,
            "align_content": null,
            "visibility": null,
            "align_self": null,
            "height": null,
            "min_height": null,
            "padding": null,
            "grid_auto_rows": null,
            "grid_gap": null,
            "max_width": null,
            "order": null,
            "_view_module_version": "1.2.0",
            "grid_template_areas": null,
            "object_position": null,
            "object_fit": null,
            "grid_auto_columns": null,
            "margin": null,
            "display": null,
            "left": null
          }
        },
        "508cec651ff7456594691db3ccfebd54": {
          "model_module": "@jupyter-widgets/controls",
          "model_name": "DescriptionStyleModel",
          "state": {
            "_view_name": "StyleView",
            "_model_name": "DescriptionStyleModel",
            "description_width": "",
            "_view_module": "@jupyter-widgets/base",
            "_model_module_version": "1.5.0",
            "_view_count": null,
            "_view_module_version": "1.2.0",
            "_model_module": "@jupyter-widgets/controls"
          }
        },
        "f73fc508df8b4cc493a303b5642a21ed": {
          "model_module": "@jupyter-widgets/base",
          "model_name": "LayoutModel",
          "state": {
            "_view_name": "LayoutView",
            "grid_template_rows": null,
            "right": null,
            "justify_content": null,
            "_view_module": "@jupyter-widgets/base",
            "overflow": null,
            "_model_module_version": "1.2.0",
            "_view_count": null,
            "flex_flow": null,
            "width": null,
            "min_width": null,
            "border": null,
            "align_items": null,
            "bottom": null,
            "_model_module": "@jupyter-widgets/base",
            "top": null,
            "grid_column": null,
            "overflow_y": null,
            "overflow_x": null,
            "grid_auto_flow": null,
            "grid_area": null,
            "grid_template_columns": null,
            "flex": null,
            "_model_name": "LayoutModel",
            "justify_items": null,
            "grid_row": null,
            "max_height": null,
            "align_content": null,
            "visibility": null,
            "align_self": null,
            "height": null,
            "min_height": null,
            "padding": null,
            "grid_auto_rows": null,
            "grid_gap": null,
            "max_width": null,
            "order": null,
            "_view_module_version": "1.2.0",
            "grid_template_areas": null,
            "object_position": null,
            "object_fit": null,
            "grid_auto_columns": null,
            "margin": null,
            "display": null,
            "left": null
          }
        }
      }
    }
  },
  "cells": [
    {
      "cell_type": "markdown",
      "metadata": {
        "id": "view-in-github",
        "colab_type": "text"
      },
      "source": [
        "<a href=\"https://colab.research.google.com/github/yomnaFathy/Images-Classification-using-Deep-Neural-Network/blob/main/Flower_Image_Classification_VGG16.ipynb\" target=\"_parent\"><img src=\"https://colab.research.google.com/assets/colab-badge.svg\" alt=\"Open In Colab\"/></a>"
      ]
    },
    {
      "cell_type": "code",
      "metadata": {
        "id": "l6jsdw6vQEsi",
        "outputId": "ce020c48-d126-4064-e022-3b58ab87fef5",
        "colab": {
          "base_uri": "https://localhost:8080/",
          "height": 34
        }
      },
      "source": [
        "from google.colab import drive\n",
        "drive.mount('/content/drive')"
      ],
      "execution_count": 1,
      "outputs": [
        {
          "output_type": "stream",
          "text": [
            "Drive already mounted at /content/drive; to attempt to forcibly remount, call drive.mount(\"/content/drive\", force_remount=True).\n"
          ],
          "name": "stdout"
        }
      ]
    },
    {
      "cell_type": "code",
      "metadata": {
        "id": "vFyFFQmatOMG"
      },
      "source": [
        "# !pip install py7zr"
      ],
      "execution_count": 2,
      "outputs": []
    },
    {
      "cell_type": "code",
      "metadata": {
        "id": "t-uoHbgARiOs"
      },
      "source": [
        "# import py7zr\n",
        "# zip_file = \"/content/drive/My Drive/datasets/flower_data.7z\"\n",
        "\n",
        "# with py7zr.SevenZipFile(zip_file) as zipObj:\n",
        "#     zipObj.extractall(\"/content/drive/My Drive/datasets/\")"
      ],
      "execution_count": 3,
      "outputs": []
    },
    {
      "cell_type": "code",
      "metadata": {
        "id": "rHFqvOa3s2aw"
      },
      "source": [
        "import torch\n",
        "from torch import nn, optim\n",
        "from torchvision import datasets, transforms, models"
      ],
      "execution_count": 4,
      "outputs": []
    },
    {
      "cell_type": "code",
      "metadata": {
        "id": "h8soHaeOzHtM"
      },
      "source": [
        "data_dir = \"/content/drive/My Drive/datasets/flower_data/\""
      ],
      "execution_count": 5,
      "outputs": []
    },
    {
      "cell_type": "code",
      "metadata": {
        "id": "RUJZ6-1nuwxb",
        "outputId": "0e7944bd-c1e2-4d90-84b8-447dc2a9edb8",
        "colab": {
          "base_uri": "https://localhost:8080/",
          "height": 71
        }
      },
      "source": [
        "normalize = transforms.Normalize(mean=[0.485, 0.456, 0.406],\n",
        "                                 std=[0.229, 0.224, 0.225])\n",
        "train_transforms = transforms.Compose([transforms.RandomResizedCrop(224),\n",
        "                                       transforms.RandomHorizontalFlip(), \n",
        "                                       transforms.ToTensor(), \n",
        "                                       normalize])\n",
        "\n",
        "valid_transforms = transforms.Compose([transforms.Scale(256),\n",
        "                                      transforms.CenterCrop(224),\n",
        "                                      transforms.ToTensor(),\n",
        "                                      normalize])\n",
        "\n",
        "test_transforms = transforms.Compose([transforms.Scale(256),\n",
        "                                      transforms.CenterCrop(224),\n",
        "                                      transforms.ToTensor(),\n",
        "                                      normalize])\n",
        "\n",
        "train_data = datasets.ImageFolder(data_dir + \"train\", transform=train_transforms)\n",
        "valid_data = datasets.ImageFolder(data_dir + \"valid\", transform=test_transforms)\n",
        "test_data = datasets.ImageFolder(data_dir + \"test\", transform=test_transforms)\n",
        "\n",
        "train_loader = torch.utils.data.DataLoader(train_data, batch_size=64, shuffle=True)\n",
        "valid_loader = torch.utils.data.DataLoader(valid_data, batch_size=64)\n",
        "test_loader = torch.utils.data.DataLoader(test_data, batch_size=64)"
      ],
      "execution_count": 6,
      "outputs": [
        {
          "output_type": "stream",
          "text": [
            "/usr/local/lib/python3.6/dist-packages/torchvision/transforms/transforms.py:257: UserWarning: The use of the transforms.Scale transform is deprecated, please use transforms.Resize instead.\n",
            "  \"please use transforms.Resize instead.\")\n"
          ],
          "name": "stderr"
        }
      ]
    },
    {
      "cell_type": "code",
      "metadata": {
        "id": "QbaaM0Wl6438",
        "outputId": "2ee20058-98aa-4e5f-8d67-cd760e798ea0",
        "colab": {
          "base_uri": "https://localhost:8080/",
          "height": 848,
          "referenced_widgets": [
            "75a40fa4feff44668c27682868ac5d6c",
            "e4f763bff3a3444385702c46f9fd37d5",
            "13e86807c8744e5ba91a047fb96e955f",
            "bafd20c0a0c9452e9a5b13ba3bad39d3",
            "e2c98a824ed24090962cbc1fd534a2a5",
            "6fb07a6b788b4ca791c88215bc2c4ae8",
            "508cec651ff7456594691db3ccfebd54",
            "f73fc508df8b4cc493a303b5642a21ed"
          ]
        }
      },
      "source": [
        "model = models.vgg16(pretrained=True)\n",
        "model"
      ],
      "execution_count": 7,
      "outputs": [
        {
          "output_type": "stream",
          "text": [
            "Downloading: \"https://download.pytorch.org/models/vgg16-397923af.pth\" to /root/.cache/torch/hub/checkpoints/vgg16-397923af.pth\n"
          ],
          "name": "stderr"
        },
        {
          "output_type": "display_data",
          "data": {
            "application/vnd.jupyter.widget-view+json": {
              "model_id": "75a40fa4feff44668c27682868ac5d6c",
              "version_minor": 0,
              "version_major": 2
            },
            "text/plain": [
              "HBox(children=(FloatProgress(value=0.0, max=553433881.0), HTML(value='')))"
            ]
          },
          "metadata": {
            "tags": []
          }
        },
        {
          "output_type": "stream",
          "text": [
            "\n"
          ],
          "name": "stdout"
        },
        {
          "output_type": "execute_result",
          "data": {
            "text/plain": [
              "VGG(\n",
              "  (features): Sequential(\n",
              "    (0): Conv2d(3, 64, kernel_size=(3, 3), stride=(1, 1), padding=(1, 1))\n",
              "    (1): ReLU(inplace=True)\n",
              "    (2): Conv2d(64, 64, kernel_size=(3, 3), stride=(1, 1), padding=(1, 1))\n",
              "    (3): ReLU(inplace=True)\n",
              "    (4): MaxPool2d(kernel_size=2, stride=2, padding=0, dilation=1, ceil_mode=False)\n",
              "    (5): Conv2d(64, 128, kernel_size=(3, 3), stride=(1, 1), padding=(1, 1))\n",
              "    (6): ReLU(inplace=True)\n",
              "    (7): Conv2d(128, 128, kernel_size=(3, 3), stride=(1, 1), padding=(1, 1))\n",
              "    (8): ReLU(inplace=True)\n",
              "    (9): MaxPool2d(kernel_size=2, stride=2, padding=0, dilation=1, ceil_mode=False)\n",
              "    (10): Conv2d(128, 256, kernel_size=(3, 3), stride=(1, 1), padding=(1, 1))\n",
              "    (11): ReLU(inplace=True)\n",
              "    (12): Conv2d(256, 256, kernel_size=(3, 3), stride=(1, 1), padding=(1, 1))\n",
              "    (13): ReLU(inplace=True)\n",
              "    (14): Conv2d(256, 256, kernel_size=(3, 3), stride=(1, 1), padding=(1, 1))\n",
              "    (15): ReLU(inplace=True)\n",
              "    (16): MaxPool2d(kernel_size=2, stride=2, padding=0, dilation=1, ceil_mode=False)\n",
              "    (17): Conv2d(256, 512, kernel_size=(3, 3), stride=(1, 1), padding=(1, 1))\n",
              "    (18): ReLU(inplace=True)\n",
              "    (19): Conv2d(512, 512, kernel_size=(3, 3), stride=(1, 1), padding=(1, 1))\n",
              "    (20): ReLU(inplace=True)\n",
              "    (21): Conv2d(512, 512, kernel_size=(3, 3), stride=(1, 1), padding=(1, 1))\n",
              "    (22): ReLU(inplace=True)\n",
              "    (23): MaxPool2d(kernel_size=2, stride=2, padding=0, dilation=1, ceil_mode=False)\n",
              "    (24): Conv2d(512, 512, kernel_size=(3, 3), stride=(1, 1), padding=(1, 1))\n",
              "    (25): ReLU(inplace=True)\n",
              "    (26): Conv2d(512, 512, kernel_size=(3, 3), stride=(1, 1), padding=(1, 1))\n",
              "    (27): ReLU(inplace=True)\n",
              "    (28): Conv2d(512, 512, kernel_size=(3, 3), stride=(1, 1), padding=(1, 1))\n",
              "    (29): ReLU(inplace=True)\n",
              "    (30): MaxPool2d(kernel_size=2, stride=2, padding=0, dilation=1, ceil_mode=False)\n",
              "  )\n",
              "  (avgpool): AdaptiveAvgPool2d(output_size=(7, 7))\n",
              "  (classifier): Sequential(\n",
              "    (0): Linear(in_features=25088, out_features=4096, bias=True)\n",
              "    (1): ReLU(inplace=True)\n",
              "    (2): Dropout(p=0.5, inplace=False)\n",
              "    (3): Linear(in_features=4096, out_features=4096, bias=True)\n",
              "    (4): ReLU(inplace=True)\n",
              "    (5): Dropout(p=0.5, inplace=False)\n",
              "    (6): Linear(in_features=4096, out_features=1000, bias=True)\n",
              "  )\n",
              ")"
            ]
          },
          "metadata": {
            "tags": []
          },
          "execution_count": 7
        }
      ]
    },
    {
      "cell_type": "code",
      "metadata": {
        "id": "LrRg0TDi7PAr"
      },
      "source": [
        "for param in model.parameters():\n",
        "    param.requires_grad=False\n",
        "\n",
        "classifier = nn.Sequential(nn.Linear(25088, 4096),\n",
        "                           nn.ReLU(),\n",
        "                           nn.Dropout(0.5),\n",
        "                           nn.Linear(4096, 102),\n",
        "                           nn.LogSoftmax(dim=1))\n",
        "\n",
        "model.classifier = classifier"
      ],
      "execution_count": 8,
      "outputs": []
    },
    {
      "cell_type": "code",
      "metadata": {
        "id": "hvq8kfaIFvZA",
        "outputId": "1d09be9a-862f-4018-cce4-2e64de91b793",
        "colab": {
          "base_uri": "https://localhost:8080/",
          "height": 136
        }
      },
      "source": [
        "model.classifier"
      ],
      "execution_count": 9,
      "outputs": [
        {
          "output_type": "execute_result",
          "data": {
            "text/plain": [
              "Sequential(\n",
              "  (0): Linear(in_features=25088, out_features=4096, bias=True)\n",
              "  (1): ReLU()\n",
              "  (2): Dropout(p=0.5, inplace=False)\n",
              "  (3): Linear(in_features=4096, out_features=102, bias=True)\n",
              "  (4): LogSoftmax(dim=1)\n",
              ")"
            ]
          },
          "metadata": {
            "tags": []
          },
          "execution_count": 9
        }
      ]
    },
    {
      "cell_type": "markdown",
      "metadata": {
        "id": "pKP9AqkycGpO"
      },
      "source": [
        "#### Comparing time consumed using GPU and CPU"
      ]
    },
    {
      "cell_type": "code",
      "metadata": {
        "id": "1AdDhaRRcHZu"
      },
      "source": [
        "import time"
      ],
      "execution_count": 10,
      "outputs": []
    },
    {
      "cell_type": "code",
      "metadata": {
        "id": "1Je29igdcV6P",
        "outputId": "098378e1-0aa0-44d9-995d-72c1a2844b73",
        "colab": {
          "base_uri": "https://localhost:8080/",
          "height": 51
        }
      },
      "source": [
        "for device in ['cuda', 'cpu']:\n",
        "\n",
        "    criterion = nn.NLLLoss()\n",
        "    # Only train the classifier parameters, feature parameters are frozen\n",
        "    optimizer = optim.Adam(model.classifier.parameters(), lr=0.001)\n",
        "\n",
        "    model.to(device)\n",
        "\n",
        "    for ii, (inputs, labels) in enumerate(train_loader):\n",
        "\n",
        "        # Move input and label tensors to the GPU\n",
        "        inputs, labels = inputs.to(device), labels.to(device)\n",
        "\n",
        "        start = time.time()\n",
        "\n",
        "        outputs = model.forward(inputs)\n",
        "        loss = criterion(outputs, labels)\n",
        "        loss.backward()\n",
        "        optimizer.step()\n",
        "\n",
        "        if ii==3:\n",
        "            break\n",
        "        \n",
        "    print(f\"Device = {device}; Time per batch: {(time.time() - start)/3:.3f} seconds\")"
      ],
      "execution_count": 11,
      "outputs": [
        {
          "output_type": "stream",
          "text": [
            "Device = cuda; Time per batch: 0.002 seconds\n",
            "Device = cpu; Time per batch: 10.187 seconds\n"
          ],
          "name": "stdout"
        }
      ]
    },
    {
      "cell_type": "code",
      "metadata": {
        "id": "IwaKBxXmcV2m",
        "outputId": "5b0d700a-1860-410b-cc15-10252eae7edd",
        "colab": {
          "base_uri": "https://localhost:8080/",
          "height": 1000
        }
      },
      "source": [
        "# Test Only to print out some info\n",
        "\n",
        "for device in ['cuda']:\n",
        "\n",
        "    criterion = nn.NLLLoss()\n",
        "    # Only train the classifier parameters, feature parameters are frozen\n",
        "    optimizer = optim.Adam(model.classifier.parameters(), lr=0.001)\n",
        "\n",
        "    model.to(device)\n",
        "\n",
        "    print(\"Loss Function:\\n\", criterion)\n",
        "    print(\"Optimization Function:\\n\", optimizer)\n",
        "    print(\"New Model Structure:\\n\", model)\n",
        "\n",
        "    for ii, (inputs, labels) in enumerate(train_loader):\n",
        "\n",
        "        # Move input and label tensors to the GPU\n",
        "        inputs, labels = inputs.to(device), labels.to(device)\n",
        "        \n",
        "        print(\"Batch of Images:\\n\", inputs)\n",
        "        print(\"Batch Shape:\\n\", inputs.shape)\n",
        "        print(\"Batch Labels:\\n\", labels)\n",
        "\n",
        "        start = time.time()\n",
        "\n",
        "        outputs = model.forward(inputs)\n",
        "        loss = criterion(outputs, labels)\n",
        "        print(\"Loss:\\n\", loss)\n",
        "        loss.backward()\n",
        "        optimizer.step()\n",
        "        break\n",
        "        if ii==3:\n",
        "            break\n",
        "        \n",
        "    print(f\"Device = {device}; Time per batch: {(time.time() - start)/3:.3f} seconds\")"
      ],
      "execution_count": 12,
      "outputs": [
        {
          "output_type": "stream",
          "text": [
            "Loss Function:\n",
            " NLLLoss()\n",
            "Optimization Function:\n",
            " Adam (\n",
            "Parameter Group 0\n",
            "    amsgrad: False\n",
            "    betas: (0.9, 0.999)\n",
            "    eps: 1e-08\n",
            "    lr: 0.001\n",
            "    weight_decay: 0\n",
            ")\n",
            "New Model Structure:\n",
            " VGG(\n",
            "  (features): Sequential(\n",
            "    (0): Conv2d(3, 64, kernel_size=(3, 3), stride=(1, 1), padding=(1, 1))\n",
            "    (1): ReLU(inplace=True)\n",
            "    (2): Conv2d(64, 64, kernel_size=(3, 3), stride=(1, 1), padding=(1, 1))\n",
            "    (3): ReLU(inplace=True)\n",
            "    (4): MaxPool2d(kernel_size=2, stride=2, padding=0, dilation=1, ceil_mode=False)\n",
            "    (5): Conv2d(64, 128, kernel_size=(3, 3), stride=(1, 1), padding=(1, 1))\n",
            "    (6): ReLU(inplace=True)\n",
            "    (7): Conv2d(128, 128, kernel_size=(3, 3), stride=(1, 1), padding=(1, 1))\n",
            "    (8): ReLU(inplace=True)\n",
            "    (9): MaxPool2d(kernel_size=2, stride=2, padding=0, dilation=1, ceil_mode=False)\n",
            "    (10): Conv2d(128, 256, kernel_size=(3, 3), stride=(1, 1), padding=(1, 1))\n",
            "    (11): ReLU(inplace=True)\n",
            "    (12): Conv2d(256, 256, kernel_size=(3, 3), stride=(1, 1), padding=(1, 1))\n",
            "    (13): ReLU(inplace=True)\n",
            "    (14): Conv2d(256, 256, kernel_size=(3, 3), stride=(1, 1), padding=(1, 1))\n",
            "    (15): ReLU(inplace=True)\n",
            "    (16): MaxPool2d(kernel_size=2, stride=2, padding=0, dilation=1, ceil_mode=False)\n",
            "    (17): Conv2d(256, 512, kernel_size=(3, 3), stride=(1, 1), padding=(1, 1))\n",
            "    (18): ReLU(inplace=True)\n",
            "    (19): Conv2d(512, 512, kernel_size=(3, 3), stride=(1, 1), padding=(1, 1))\n",
            "    (20): ReLU(inplace=True)\n",
            "    (21): Conv2d(512, 512, kernel_size=(3, 3), stride=(1, 1), padding=(1, 1))\n",
            "    (22): ReLU(inplace=True)\n",
            "    (23): MaxPool2d(kernel_size=2, stride=2, padding=0, dilation=1, ceil_mode=False)\n",
            "    (24): Conv2d(512, 512, kernel_size=(3, 3), stride=(1, 1), padding=(1, 1))\n",
            "    (25): ReLU(inplace=True)\n",
            "    (26): Conv2d(512, 512, kernel_size=(3, 3), stride=(1, 1), padding=(1, 1))\n",
            "    (27): ReLU(inplace=True)\n",
            "    (28): Conv2d(512, 512, kernel_size=(3, 3), stride=(1, 1), padding=(1, 1))\n",
            "    (29): ReLU(inplace=True)\n",
            "    (30): MaxPool2d(kernel_size=2, stride=2, padding=0, dilation=1, ceil_mode=False)\n",
            "  )\n",
            "  (avgpool): AdaptiveAvgPool2d(output_size=(7, 7))\n",
            "  (classifier): Sequential(\n",
            "    (0): Linear(in_features=25088, out_features=4096, bias=True)\n",
            "    (1): ReLU()\n",
            "    (2): Dropout(p=0.5, inplace=False)\n",
            "    (3): Linear(in_features=4096, out_features=102, bias=True)\n",
            "    (4): LogSoftmax(dim=1)\n",
            "  )\n",
            ")\n",
            "Batch of Images:\n",
            " tensor([[[[-1.2274, -1.1932, -1.1589,  ..., -1.3815, -1.3815, -1.3815],\n",
            "          [-1.2274, -1.2103, -1.1589,  ..., -1.3987, -1.3987, -1.3987],\n",
            "          [-1.2445, -1.2103, -1.1760,  ..., -1.4158, -1.4158, -1.4158],\n",
            "          ...,\n",
            "          [-0.7822, -0.7822, -0.7479,  ..., -1.1589, -1.1247, -1.0904],\n",
            "          [-0.7650, -0.7650, -0.7137,  ..., -1.1418, -1.1247, -1.1075],\n",
            "          [-0.7650, -0.7479, -0.6965,  ..., -1.1075, -1.1247, -1.1247]],\n",
            "\n",
            "         [[-1.0553, -1.0203, -0.9853,  ..., -1.2129, -1.2129, -1.2129],\n",
            "          [-1.0553, -1.0378, -0.9853,  ..., -1.2304, -1.2304, -1.2304],\n",
            "          [-1.0728, -1.0378, -1.0028,  ..., -1.2479, -1.2479, -1.2479],\n",
            "          ...,\n",
            "          [-0.6352, -0.6527, -0.6352,  ..., -0.9503, -0.9153, -0.8803],\n",
            "          [-0.6176, -0.6176, -0.5826,  ..., -0.9328, -0.9328, -0.9153],\n",
            "          [-0.6176, -0.6001, -0.5476,  ..., -0.9153, -0.9328, -0.9328]],\n",
            "\n",
            "         [[-1.0898, -1.0550, -1.0201,  ..., -1.3861, -1.3861, -1.3861],\n",
            "          [-1.0898, -1.0724, -1.0201,  ..., -1.4036, -1.4036, -1.4036],\n",
            "          [-1.1073, -1.0724, -1.0376,  ..., -1.4210, -1.4210, -1.4210],\n",
            "          ...,\n",
            "          [-0.7238, -0.7413, -0.7413,  ..., -1.1944, -1.1421, -1.1073],\n",
            "          [-0.7413, -0.7587, -0.7238,  ..., -1.1596, -1.1421, -1.1073],\n",
            "          [-0.7587, -0.7413, -0.7064,  ..., -1.1073, -1.1073, -1.0898]]],\n",
            "\n",
            "\n",
            "        [[[ 0.7077,  0.7762,  0.8276,  ...,  0.7419,  0.7248,  0.7248],\n",
            "          [ 0.7077,  0.7933,  0.8447,  ...,  0.7248,  0.7077,  0.7077],\n",
            "          [ 0.7077,  0.8104,  0.8276,  ...,  0.7248,  0.6906,  0.6906],\n",
            "          ...,\n",
            "          [ 0.1426,  0.1254,  0.1254,  ...,  0.2111,  0.1768,  0.1254],\n",
            "          [ 0.1426,  0.1254,  0.1254,  ...,  0.2111,  0.2624,  0.3309],\n",
            "          [ 0.1426,  0.1254,  0.1254,  ...,  0.2796,  0.3994,  0.5022]],\n",
            "\n",
            "         [[ 1.0105,  1.0805,  1.1155,  ...,  0.8004,  0.8179,  0.8179],\n",
            "          [ 0.9755,  1.0630,  1.1155,  ...,  0.7829,  0.8004,  0.8004],\n",
            "          [ 0.9930,  1.0805,  1.0980,  ...,  0.7829,  0.7829,  0.7829],\n",
            "          ...,\n",
            "          [ 0.4503,  0.4328,  0.4328,  ...,  0.6254,  0.5728,  0.4503],\n",
            "          [ 0.4503,  0.4328,  0.4328,  ...,  0.5203,  0.5028,  0.4503],\n",
            "          [ 0.4503,  0.4328,  0.4328,  ...,  0.4153,  0.3803,  0.3803]],\n",
            "\n",
            "         [[-1.7173, -1.8044, -1.8044,  ..., -1.6999, -1.6650, -1.6650],\n",
            "          [-1.7347, -1.7870, -1.8044,  ..., -1.7173, -1.6824, -1.6824],\n",
            "          [-1.6824, -1.7347, -1.8044,  ..., -1.7173, -1.6999, -1.6999],\n",
            "          ...,\n",
            "          [-1.6824, -1.6999, -1.6999,  ..., -0.8284, -1.3164, -1.5604],\n",
            "          [-1.6824, -1.6999, -1.6999,  ..., -1.2293, -1.6476, -1.7696],\n",
            "          [-1.6824, -1.6999, -1.6999,  ..., -1.4036, -1.5604, -1.6824]]],\n",
            "\n",
            "\n",
            "        [[[ 1.6324,  1.5810,  1.4954,  ..., -0.8678, -0.8849, -0.9192],\n",
            "          [ 1.6324,  1.6667,  1.5639,  ..., -0.8678, -0.8849, -0.9192],\n",
            "          [ 1.6838,  1.6667,  1.5468,  ..., -0.8678, -0.9192, -0.9534],\n",
            "          ...,\n",
            "          [-1.0904, -1.0733, -1.0733,  ..., -0.5424, -0.5424, -0.5596],\n",
            "          [-1.0562, -1.0390, -1.0219,  ..., -0.5082, -0.4911, -0.5253],\n",
            "          [-1.0219, -1.0219, -1.0219,  ..., -0.3883, -0.4226, -0.4739]],\n",
            "\n",
            "         [[-0.6877, -0.6877, -0.7577,  ..., -1.0378, -1.0553, -1.0903],\n",
            "          [-0.7752, -0.7227, -0.8277,  ..., -1.0553, -1.0728, -1.1078],\n",
            "          [-0.6527, -0.7052, -0.8627,  ..., -1.0553, -1.1078, -1.1429],\n",
            "          ...,\n",
            "          [-0.4426, -0.4076, -0.3725,  ..., -0.2325, -0.3025, -0.3550],\n",
            "          [-0.4426, -0.4076, -0.3901,  ..., -0.0049, -0.0924, -0.1450],\n",
            "          [-0.4076, -0.3901, -0.3901,  ...,  0.1702,  0.0826, -0.0049]],\n",
            "\n",
            "         [[-1.6999, -1.7347, -1.7870,  ..., -1.0376, -1.0550, -1.0898],\n",
            "          [-1.6650, -1.6302, -1.6999,  ..., -1.0376, -1.0550, -1.0898],\n",
            "          [-1.7696, -1.7696, -1.8044,  ..., -1.0201, -1.0550, -1.0898],\n",
            "          ...,\n",
            "          [-1.4210, -1.4036, -1.3687,  ..., -0.8807, -0.8633, -0.8807],\n",
            "          [-1.3687, -1.3339, -1.2816,  ..., -0.8458, -0.8807, -0.9156],\n",
            "          [-1.3339, -1.2990, -1.2816,  ..., -0.6715, -0.7238, -0.7761]]],\n",
            "\n",
            "\n",
            "        ...,\n",
            "\n",
            "\n",
            "        [[[-0.2856, -0.3541, -0.4739,  ..., -0.1486, -0.0972, -0.0629],\n",
            "          [-0.3883, -0.4568, -0.5596,  ..., -0.2171, -0.1657, -0.1314],\n",
            "          [-0.4911, -0.5596, -0.6623,  ..., -0.3027, -0.2513, -0.2171],\n",
            "          ...,\n",
            "          [ 2.1633,  2.1633,  2.1975,  ..., -0.5253, -0.5424, -0.5596],\n",
            "          [ 2.1462,  2.1462,  2.1804,  ..., -0.5767, -0.5938, -0.5938],\n",
            "          [ 2.1633,  2.1633,  2.1633,  ..., -0.6281, -0.6281, -0.6109]],\n",
            "\n",
            "         [[-0.0574, -0.1275, -0.2500,  ...,  0.0826,  0.1352,  0.1702],\n",
            "          [-0.1625, -0.2325, -0.3375,  ...,  0.0126,  0.0651,  0.1001],\n",
            "          [-0.2500, -0.3200, -0.4251,  ..., -0.0574, -0.0049,  0.0301],\n",
            "          ...,\n",
            "          [ 1.0455,  1.0980,  1.1681,  ..., -0.1800, -0.1975, -0.2150],\n",
            "          [ 1.0280,  1.0805,  1.1506,  ..., -0.2325, -0.2325, -0.2325],\n",
            "          [ 1.0455,  1.0980,  1.1681,  ..., -0.2500, -0.2500, -0.2325]],\n",
            "\n",
            "         [[-0.9156, -0.9853, -1.0724,  ..., -0.7413, -0.7238, -0.6890],\n",
            "          [-0.9853, -1.0550, -1.1596,  ..., -0.8110, -0.7761, -0.7413],\n",
            "          [-1.0724, -1.1247, -1.2293,  ..., -0.8633, -0.8284, -0.7936],\n",
            "          ...,\n",
            "          [-1.8044, -1.8044, -1.7870,  ..., -0.9504, -0.9504, -0.9678],\n",
            "          [-1.8044, -1.8044, -1.8044,  ..., -0.9853, -1.0027, -0.9853],\n",
            "          [-1.8044, -1.8044, -1.8044,  ..., -1.0201, -1.0201, -0.9678]]],\n",
            "\n",
            "\n",
            "        [[[-1.9809, -1.9809, -1.9638,  ...,  1.7694,  1.7009,  1.6667],\n",
            "          [-1.9809, -1.9809, -1.9638,  ...,  1.8037,  1.7180,  1.6838],\n",
            "          [-1.9809, -1.9809, -1.9638,  ...,  1.8037,  1.7352,  1.7009],\n",
            "          ...,\n",
            "          [-0.3369, -0.3369, -0.3198,  ..., -1.7069, -1.7069, -1.7069],\n",
            "          [-0.3027, -0.3027, -0.3198,  ..., -1.7069, -1.7069, -1.7069],\n",
            "          [-0.2684, -0.2684, -0.3027,  ..., -1.7069, -1.6898, -1.6898]],\n",
            "\n",
            "         [[-1.9132, -1.9132, -1.8957,  ...,  0.7304,  0.6779,  0.6254],\n",
            "          [-1.9132, -1.9132, -1.8957,  ...,  0.7654,  0.6954,  0.6429],\n",
            "          [-1.9132, -1.9132, -1.8957,  ...,  0.7654,  0.6954,  0.6429],\n",
            "          ...,\n",
            "          [-0.1450, -0.1450, -0.1275,  ..., -1.6681, -1.6856, -1.6856],\n",
            "          [-0.1099, -0.1099, -0.1275,  ..., -1.6856, -1.6856, -1.6856],\n",
            "          [-0.0749, -0.0749, -0.1099,  ..., -1.6856, -1.6681, -1.6681]],\n",
            "\n",
            "         [[-1.7173, -1.7173, -1.6999,  ...,  0.7925,  0.6356,  0.5834],\n",
            "          [-1.7173, -1.7173, -1.6999,  ...,  0.8448,  0.6705,  0.6008],\n",
            "          [-1.7173, -1.7173, -1.6999,  ...,  0.8622,  0.7054,  0.6531],\n",
            "          ...,\n",
            "          [ 0.2696,  0.2696,  0.2871,  ..., -1.5256, -1.5081, -1.5081],\n",
            "          [ 0.3045,  0.3045,  0.2871,  ..., -1.5081, -1.5081, -1.5081],\n",
            "          [ 0.3393,  0.3393,  0.3045,  ..., -1.4559, -1.4907, -1.4907]]],\n",
            "\n",
            "\n",
            "        [[[-0.0629, -0.0629, -0.1314,  ...,  0.0227, -0.0629, -0.1486],\n",
            "          [-0.0629, -0.0972, -0.1828,  ..., -0.0116, -0.1143, -0.2171],\n",
            "          [-0.1143, -0.1314, -0.2171,  ..., -0.0287, -0.1657, -0.2342],\n",
            "          ...,\n",
            "          [-1.3302, -1.2274, -1.0048,  ..., -0.7993, -0.7993, -0.7822],\n",
            "          [-1.2103, -1.1247, -1.0733,  ..., -0.7993, -0.7993, -0.7822],\n",
            "          [-1.2103, -1.1760, -1.1589,  ..., -0.7822, -0.7650, -0.7650]],\n",
            "\n",
            "         [[ 0.6604,  0.6429,  0.5553,  ...,  0.6254,  0.5378,  0.5028],\n",
            "          [ 0.6604,  0.6078,  0.5203,  ...,  0.6779,  0.5728,  0.5028],\n",
            "          [ 0.6254,  0.5728,  0.4853,  ...,  0.6604,  0.5378,  0.5028],\n",
            "          ...,\n",
            "          [-1.0728, -0.9853, -0.7927,  ..., -0.2500, -0.2500, -0.2325],\n",
            "          [-0.8803, -0.8102, -0.7752,  ..., -0.2500, -0.2500, -0.2325],\n",
            "          [-0.8102, -0.7752, -0.7927,  ..., -0.2675, -0.2325, -0.2325]],\n",
            "\n",
            "         [[-0.2358, -0.3230, -0.4450,  ..., -0.2010, -0.4450, -0.6541],\n",
            "          [-0.2881, -0.4101, -0.5844,  ..., -0.3055, -0.5670, -0.7587],\n",
            "          [-0.3404, -0.4624, -0.6193,  ..., -0.3404, -0.6367, -0.8458],\n",
            "          ...,\n",
            "          [-1.1073, -0.9853, -0.7587,  ..., -0.4101, -0.4101, -0.3927],\n",
            "          [-0.9330, -0.8284, -0.7587,  ..., -0.3927, -0.3927, -0.3927],\n",
            "          [-0.8633, -0.8284, -0.8110,  ..., -0.3927, -0.3578, -0.3578]]]],\n",
            "       device='cuda:0')\n",
            "Batch Shape:\n",
            " torch.Size([64, 3, 224, 224])\n",
            "Batch Labels:\n",
            " tensor([ 63,  29,  43,  56,  77,  65,  18,  29,  84,  14,  38,  84,  27,  49,\n",
            "         96,  67,  32,  34,   9,  74,   5,  68,  72,  34,  82,  96,  48,  89,\n",
            "         43,  80,  16,  38,  76,  78,  75,  57,  40,   5,  16,  22,  28,  37,\n",
            "         38,  32,  61,  46,  27,  56,  89,  86,  17,  77,  77,  51,  48,  77,\n",
            "          2, 101,  82,  84,  49,  64,  73,  78], device='cuda:0')\n",
            "Loss:\n",
            " tensor(14.7050, device='cuda:0', grad_fn=<NllLossBackward>)\n",
            "Device = cuda; Time per batch: 0.126 seconds\n"
          ],
          "name": "stdout"
        }
      ]
    },
    {
      "cell_type": "code",
      "metadata": {
        "id": "tVVfBd4jF08V"
      },
      "source": [
        "# use gpu if available\n",
        "device = torch.device(\"cuda\" if torch.cuda.is_available() else \"cpu\")\n",
        "# loss function\n",
        "criterion = nn.NLLLoss()\n",
        "# train only classifier parameters\n",
        "optimizer = optim.Adam(model.classifier.parameters())\n",
        "# add model to gpu\n",
        "model.to(device);"
      ],
      "execution_count": 13,
      "outputs": []
    },
    {
      "cell_type": "code",
      "metadata": {
        "id": "n85JTRMBBsyZ",
        "outputId": "71cc36ab-58d8-4a23-a3c0-dd1a8275802c",
        "colab": {
          "base_uri": "https://localhost:8080/",
          "height": 306
        }
      },
      "source": [
        "# Model Training\n",
        "epochs = 5\n",
        "steps = 0 \n",
        "running_loss = 0\n",
        "print_every = 30\n",
        "for epoch in range(epochs):\n",
        "    for inputs, labels in train_loader:\n",
        "        steps += 1\n",
        "\n",
        "        inputs, labels = inputs.to(device), labels.to(device)\n",
        "\n",
        "        # set gradients to 0, so that parameters updates correctly\n",
        "        optimizer.zero_grad()\n",
        "\n",
        "        logps = model.forward(inputs)\n",
        "        loss = criterion(logps, labels)\n",
        "        # calculates gradients\n",
        "        loss.backward()\n",
        "        # update parameters\n",
        "        optimizer.step()\n",
        "\n",
        "        running_loss += loss.item()\n",
        "\n",
        "        if steps % print_every == 0:\n",
        "            valid_loss = 0\n",
        "            accuracy = 0\n",
        "            model.eval()\n",
        "            with torch.no_grad():\n",
        "                for inputs, labels in valid_loader:\n",
        "                    inputs, labels = inputs.to(device), labels.to(device)\n",
        "                    logps = model.forward(inputs)\n",
        "                    batch_loss = criterion(logps, labels)\n",
        "\n",
        "                    valid_loss += batch_loss.item()\n",
        "\n",
        "                    # calculate accuracy\n",
        "                    ps = torch.exp(logps)\n",
        "                    equals = ps.max(dim=1)[1] == labels.data\n",
        "                    accuracy += torch.mean(equals.type(torch.FloatTensor)).item()\n",
        "\n",
        "            print(f\"Epoch {epoch+1}/{epochs}.. \"\n",
        "                  f\"Train loss: {running_loss/print_every:.3f}.. \"\n",
        "                  f\"Validation loss: {valid_loss/len(valid_loader):.3f}.. \"\n",
        "                  f\"Validation accuracy: {accuracy/len(valid_loader):.3f}.. \")\n",
        "            \n",
        "            running_loss = 0\n",
        "            model.train()\n"
      ],
      "execution_count": 14,
      "outputs": [
        {
          "output_type": "stream",
          "text": [
            "Epoch 1/5.. Train loss: 3.737.. Validation loss: 1.755.. Validation accuracy: 0.577.. \n",
            "Epoch 1/5.. Train loss: 2.207.. Validation loss: 1.041.. Validation accuracy: 0.723.. \n",
            "Epoch 1/5.. Train loss: 1.790.. Validation loss: 0.894.. Validation accuracy: 0.755.. \n",
            "Epoch 2/5.. Train loss: 1.683.. Validation loss: 0.767.. Validation accuracy: 0.790.. \n",
            "Epoch 2/5.. Train loss: 1.444.. Validation loss: 0.708.. Validation accuracy: 0.807.. \n",
            "Epoch 2/5.. Train loss: 1.399.. Validation loss: 0.686.. Validation accuracy: 0.809.. \n",
            "Epoch 3/5.. Train loss: 1.308.. Validation loss: 0.589.. Validation accuracy: 0.829.. \n",
            "Epoch 3/5.. Train loss: 1.263.. Validation loss: 0.590.. Validation accuracy: 0.824.. \n",
            "Epoch 3/5.. Train loss: 1.247.. Validation loss: 0.533.. Validation accuracy: 0.851.. \n",
            "Epoch 3/5.. Train loss: 1.261.. Validation loss: 0.498.. Validation accuracy: 0.860.. \n",
            "Epoch 4/5.. Train loss: 1.109.. Validation loss: 0.493.. Validation accuracy: 0.871.. \n",
            "Epoch 4/5.. Train loss: 1.114.. Validation loss: 0.484.. Validation accuracy: 0.877.. \n",
            "Epoch 4/5.. Train loss: 1.147.. Validation loss: 0.508.. Validation accuracy: 0.865.. \n",
            "Epoch 5/5.. Train loss: 1.101.. Validation loss: 0.475.. Validation accuracy: 0.877.. \n",
            "Epoch 5/5.. Train loss: 1.081.. Validation loss: 0.431.. Validation accuracy: 0.882.. \n",
            "Epoch 5/5.. Train loss: 1.116.. Validation loss: 0.446.. Validation accuracy: 0.893.. \n",
            "Epoch 5/5.. Train loss: 1.081.. Validation loss: 0.474.. Validation accuracy: 0.874.. \n"
          ],
          "name": "stdout"
        }
      ]
    },
    {
      "cell_type": "code",
      "metadata": {
        "id": "XoxmB0TpFYOM",
        "outputId": "a8ac5152-59b3-485d-eb09-c75a598b84d0",
        "colab": {
          "base_uri": "https://localhost:8080/",
          "height": 34
        }
      },
      "source": [
        "# Model Testing\n",
        "test_loss = 0\n",
        "accuracy = 0\n",
        "model.eval()\n",
        "with torch.no_grad():\n",
        "    for inputs, labels in test_loader:\n",
        "        inputs, labels = inputs.to(device), labels.to(device)\n",
        "        logps = model.forward(inputs)\n",
        "        batch_loss = criterion(logps, labels)\n",
        "\n",
        "        test_loss += batch_loss.item()\n",
        "        ps = torch.exp(logps)\n",
        "        equals = ps.max(dim=1)[1] == labels.data\n",
        "        accuracy += torch.mean(equals.type(torch.FloatTensor)).item()\n",
        "\n",
        "print(f\"Test loss: {test_loss/len(test_loader):.3f}.. \"\n",
        "      f\"Test accuracy: {accuracy/len(test_loader):.3f}.. \")"
      ],
      "execution_count": 15,
      "outputs": [
        {
          "output_type": "stream",
          "text": [
            "Test loss: 0.536.. Test accuracy: 0.865.. \n"
          ],
          "name": "stdout"
        }
      ]
    },
    {
      "cell_type": "code",
      "metadata": {
        "id": "2JZR32sEWgOI"
      },
      "source": [
        ""
      ],
      "execution_count": 15,
      "outputs": []
    }
  ]
}